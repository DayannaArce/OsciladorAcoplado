{
 "cells": [
  {
   "cell_type": "code",
   "execution_count": 1,
   "metadata": {},
   "outputs": [],
   "source": [
    "#Código para graficar la oscilación de un sistema masa-resorte-masa que cae de forma vertical en una dimensión\n",
    "import numpy as np\n",
    "import matplotlib.pyplot as plt"
   ]
  },
  {
   "cell_type": "code",
   "execution_count": 2,
   "metadata": {},
   "outputs": [],
   "source": [
    "#Se define una función, donde x1 y x2 corresponde a las soluciones de las ecuaciones del movimiento MRM\n",
    "def MAS(m1=10.0, m2=20.0, k=100.0, l=0.10):\n",
    "    mu=m1*m2/(m1+m2)\n",
    "    w1=0\n",
    "    w2=np.square(k/mu)\n",
    "    max_time = 0.5\n",
    "    M=m1/m2\n",
    "    t = np.linspace(0, max_time, 1000)\n",
    "    x1=l*((M+2)/(M+1))*np.cos(w1*t)+l*(M/(M+1))*np.cos(w2*t)\n",
    "    x2=l*((M+2)/(M+1))*np.cos(w1*t)-l*(1/(M+1))*np.cos(w2*t)\n",
    "\n",
    "    #graficar\n",
    "    with plt.style.context(\"default\"):\n",
    "        fig = plt.figure()\n",
    "        plt.plot(x1, label=\"Masa 1\")\n",
    "        plt.plot(x2, label=\"Masa 2\")\n",
    "        plt.xlabel(\"Tiempo $t$ ($s$)\")\n",
    "        plt.ylabel(\"Posición $x$ ($m$)\")\n",
    "        plt.legend(loc='upper right' )"
   ]
  },
  {
   "cell_type": "code",
   "execution_count": 3,
   "metadata": {},
   "outputs": [],
   "source": [
    "#se importa interact\n",
    "from ipywidgets import interact"
   ]
  },
  {
   "cell_type": "code",
   "execution_count": 4,
   "metadata": {},
   "outputs": [
    {
     "data": {
      "application/vnd.jupyter.widget-view+json": {
       "model_id": "8298ddf99b39407dbea377b37dd45cf5",
       "version_major": 2,
       "version_minor": 0
      },
      "text/plain": [
       "interactive(children=(FloatSlider(value=10.0, description='m1', max=30.0, min=1.0), FloatSlider(value=20.0, de…"
      ]
     },
     "metadata": {},
     "output_type": "display_data"
    },
    {
     "data": {
      "text/plain": [
       "<function __main__.MAS(m1=10.0, m2=20.0, k=100.0, l=0.1)>"
      ]
     },
     "execution_count": 4,
     "metadata": {},
     "output_type": "execute_result"
    }
   ],
   "source": [
    "#Con esta función se grafica de forma interactiva la oscilación del sistema MRM\n",
    "#se pueden cambiar los valor de las masas, constante del resorte y longitud de este\n",
    "interact(MAS,  m1=(1.0, 30.0),m2=(1.0,30.0), k=(20.0,100), l=(0.10,2.00))"
   ]
  },
  {
   "cell_type": "code",
   "execution_count": null,
   "metadata": {},
   "outputs": [],
   "source": []
  },
  {
   "cell_type": "code",
   "execution_count": null,
   "metadata": {},
   "outputs": [],
   "source": []
  }
 ],
 "metadata": {
  "kernelspec": {
   "display_name": "Python 3",
   "language": "python",
   "name": "python3"
  },
  "language_info": {
   "codemirror_mode": {
    "name": "ipython",
    "version": 3
   },
   "file_extension": ".py",
   "mimetype": "text/x-python",
   "name": "python",
   "nbconvert_exporter": "python",
   "pygments_lexer": "ipython3",
   "version": "3.7.1"
  }
 },
 "nbformat": 4,
 "nbformat_minor": 2
}
